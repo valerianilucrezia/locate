{
 "cells": [
  {
   "cell_type": "code",
   "execution_count": 1,
   "metadata": {},
   "outputs": [],
   "source": [
    "import torch\n",
    "import pyro\n",
    "import pyro.distributions as dist\n",
    "\n",
    "class PloidyPrior:\n",
    "    def __init__(self, \n",
    "                 components=[\n",
    "                     {'mu': 2.0, 'sigma': 0.2, 'weight': 0.3},\n",
    "                     {'mu': 3.0, 'sigma': 0.3, 'weight': 0.3},\n",
    "                     {'mu': 4.0, 'sigma': 0.3, 'weight': 0.25},\n",
    "                     {'mu': 5.0, 'sigma': 0.4, 'weight': 0.15}\n",
    "                 ]):\n",
    "        \"\"\"\n",
    "        Implements a mixture model prior for cancer cell line ploidy using Pyro.\n",
    "        \n",
    "        Parameters:\n",
    "        components: list of dicts, each containing mu, sigma, and weight for a mixture component\n",
    "        \"\"\"\n",
    "        self.components = components\n",
    "        \n",
    "        # Convert parameters to PyTorch tensors\n",
    "        self.mus = torch.tensor([c['mu'] for c in components])\n",
    "        self.sigmas = torch.tensor([c['sigma'] for c in components])\n",
    "        self.weights = torch.tensor([c['weight'] for c in components])\n",
    "        \n",
    "        # Normalize weights\n",
    "        self.weights = self.weights / self.weights.sum()\n",
    "        \n",
    "    def sample(self, sample_shape=(1,)):\n",
    "        \"\"\"\n",
    "        Sample from the ploidy prior\n",
    "        \n",
    "        Parameters:\n",
    "        sample_shape: tuple, shape of samples to generate\n",
    "        \n",
    "        Returns:\n",
    "        samples: tensor of ploidy samples\n",
    "        \"\"\"\n",
    "        with pyro.plate(\"samples\", sample_shape[0] if len(sample_shape) > 0 else 1):\n",
    "            # Sample mixture component\n",
    "            mixture_idx = pyro.sample(\n",
    "                \"mixture_idx\",\n",
    "                dist.Categorical(self.weights)\n",
    "            )\n",
    "            \n",
    "            # Sample ploidy from selected component\n",
    "            ploidy = pyro.sample(\n",
    "                \"ploidy\",\n",
    "                dist.Normal(\n",
    "                    self.mus[mixture_idx],\n",
    "                    self.sigmas[mixture_idx]\n",
    "                )\n",
    "            )\n",
    "            \n",
    "        return ploidy\n",
    "\n",
    "def plot_samples(prior, n_samples=1000):\n",
    "    \"\"\"\n",
    "    Generate and plot samples from the prior\n",
    "    \"\"\"\n",
    "    import matplotlib.pyplot as plt\n",
    "    \n",
    "    # Generate samples\n",
    "    with torch.no_grad():\n",
    "        samples = prior.sample((n_samples,))\n",
    "    \n",
    "    # Plot histogram\n",
    "    plt.figure(figsize=(10, 6))\n",
    "    plt.hist(samples.numpy(), bins=50, density=True, alpha=0.6)\n",
    "    plt.xlabel('Ploidy')\n",
    "    plt.ylabel('Density')\n",
    "    plt.title('Samples from Ploidy Prior')\n",
    "    plt.grid(True, alpha=0.3)\n",
    "    \n",
    "    # Add vertical lines for component means\n",
    "    for mu in prior.mus:\n",
    "        plt.axvline(mu.item(), color='red', linestyle='--', alpha=0.3)\n",
    "    \n",
    "    return plt"
   ]
  },
  {
   "cell_type": "code",
   "execution_count": null,
   "metadata": {},
   "outputs": [],
   "source": [
    "# Example usage\n",
    "pyro.clear_param_store()\n",
    "\n",
    "# Create prior\n",
    "prior = PloidyPrior()\n",
    "\n",
    "# Generate single sample\n",
    "single_sample = prior.sample()\n",
    "print(f\"Single ploidy sample: {single_sample.item():.2f}\")\n",
    "\n",
    "# Generate multiple samples\n",
    "batch_samples = prior.sample((5,))\n",
    "print(f\"Batch of samples: {batch_samples.numpy()}\")\n",
    "\n",
    "# Plot distribution of samples\n",
    "plt = plot_samples(prior)"
   ]
  },
  {
   "cell_type": "code",
   "execution_count": 3,
   "metadata": {},
   "outputs": [
    {
     "data": {
      "text/plain": [
       "tensor([1.7700])"
      ]
     },
     "execution_count": 3,
     "metadata": {},
     "output_type": "execute_result"
    }
   ],
   "source": [
    "PloidyPrior().sample()"
   ]
  },
  {
   "cell_type": "code",
   "execution_count": null,
   "metadata": {},
   "outputs": [],
   "source": []
  }
 ],
 "metadata": {
  "kernelspec": {
   "display_name": "locate",
   "language": "python",
   "name": "python3"
  },
  "language_info": {
   "codemirror_mode": {
    "name": "ipython",
    "version": 3
   },
   "file_extension": ".py",
   "mimetype": "text/x-python",
   "name": "python",
   "nbconvert_exporter": "python",
   "pygments_lexer": "ipython3",
   "version": "3.11.9"
  }
 },
 "nbformat": 4,
 "nbformat_minor": 2
}
